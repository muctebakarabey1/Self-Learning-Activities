{
 "cells": [
  {
   "cell_type": "code",
   "execution_count": null,
   "metadata": {},
   "outputs": [
    {
     "data": {
      "text/plain": [
       "[1, 4, 5, 7, 'Ahmet', 12]"
      ]
     },
     "execution_count": 2,
     "metadata": {},
     "output_type": "execute_result"
    }
   ],
   "source": [
    "# List - Mutable, low performance, high memory\n",
    "a_list=[1,4,5,7]\n",
    "a_list.append('Ahmet')\n",
    "a_list.append(12)\n",
    "a_list"
   ]
  },
  {
   "cell_type": "code",
   "execution_count": 4,
   "metadata": {},
   "outputs": [
    {
     "data": {
      "text/plain": [
       "(1, 3, 5, 'Mehmet')"
      ]
     },
     "execution_count": 4,
     "metadata": {},
     "output_type": "execute_result"
    }
   ],
   "source": [
    "# Tuples - Immutable, high performance, less memory\n",
    "a_tuple=(1,3,5,'Mehmet')\n",
    "a_tuple"
   ]
  },
  {
   "cell_type": "code",
   "execution_count": 6,
   "metadata": {},
   "outputs": [
    {
     "name": "stdout",
     "output_type": "stream",
     "text": [
      "Title of book is  Sandman\n"
     ]
    }
   ],
   "source": [
    "# 3. What is __init__() in Python? - OOP term, initial\n",
    "\n",
    "class Bookshop:\n",
    "\n",
    "    def __init__(self,title):\n",
    "        self.title=title\n",
    "\n",
    "    def book(self):\n",
    "        print('Title of book is ',self.title)\n",
    "        \n",
    "b=Bookshop('Sandman')\n",
    "b.book()\n",
    "\n",
    "\n",
    "    \n"
   ]
  },
  {
   "cell_type": "code",
   "execution_count": 8,
   "metadata": {},
   "outputs": [
    {
     "name": "stdout",
     "output_type": "stream",
     "text": [
      "{'a': 4, 'b': 2}\n",
      "{1, 2, 3, 33}\n"
     ]
    }
   ],
   "source": [
    "# Mutable Data Type - List,Dictionary,Set\n",
    "\n",
    "# List\n",
    "a_list=[12,34,33]\n",
    "a_list.append(44)\n",
    "\n",
    "# Dictioanary\n",
    "a_dict={'a':1,'b':2}\n",
    "a_dict['a']=4\n",
    "print(a_dict)\n",
    "\n",
    "# Set\n",
    "a_set={1,2,3}\n",
    "a_set.add(33)\n",
    "print(a_set)\n"
   ]
  },
  {
   "cell_type": "code",
   "execution_count": 9,
   "metadata": {},
   "outputs": [
    {
     "name": "stdout",
     "output_type": "stream",
     "text": [
      "('Ahmet', 44, 33)\n"
     ]
    }
   ],
   "source": [
    "# Immutable Data Types - Numeric,String,Tuples\n",
    "\n",
    "string= 'Ali Hello'\n",
    "string= 'Hi' # New Object\n",
    "\n",
    "a_tuples=('Ahmet',44,33)\n",
    "print(a_tuples)\n",
    "\n"
   ]
  },
  {
   "cell_type": "code",
   "execution_count": 11,
   "metadata": {},
   "outputs": [
    {
     "ename": "KeyError",
     "evalue": "'Rome'",
     "output_type": "error",
     "traceback": [
      "\u001b[1;31m---------------------------------------------------------------------------\u001b[0m",
      "\u001b[1;31mKeyError\u001b[0m                                  Traceback (most recent call last)",
      "Cell \u001b[1;32mIn[11], line 5\u001b[0m\n\u001b[0;32m      3\u001b[0m dictionary_capitals\u001b[38;5;241m=\u001b[39m {\u001b[38;5;124m'\u001b[39m\u001b[38;5;124mMadrid\u001b[39m\u001b[38;5;124m'\u001b[39m:\u001b[38;5;124m'\u001b[39m\u001b[38;5;124mSpain\u001b[39m\u001b[38;5;124m'\u001b[39m,\u001b[38;5;124m'\u001b[39m\u001b[38;5;124mAnkara\u001b[39m\u001b[38;5;124m'\u001b[39m:\u001b[38;5;124m'\u001b[39m\u001b[38;5;124mTurkey\u001b[39m\u001b[38;5;124m'\u001b[39m,\u001b[38;5;124m'\u001b[39m\u001b[38;5;124mlondon\u001b[39m\u001b[38;5;124m'\u001b[39m:\u001b[38;5;124m'\u001b[39m\u001b[38;5;124mUnited Kingdom\u001b[39m\u001b[38;5;124m'\u001b[39m}\n\u001b[0;32m      4\u001b[0m dictionary_capitals[\u001b[38;5;124m'\u001b[39m\u001b[38;5;124mMadrid\u001b[39m\u001b[38;5;124m'\u001b[39m]\n\u001b[1;32m----> 5\u001b[0m \u001b[43mdictionary_capitals\u001b[49m\u001b[43m[\u001b[49m\u001b[38;5;124;43m'\u001b[39;49m\u001b[38;5;124;43mRome\u001b[39;49m\u001b[38;5;124;43m'\u001b[39;49m\u001b[43m]\u001b[49m\n",
      "\u001b[1;31mKeyError\u001b[0m: 'Rome'"
     ]
    }
   ],
   "source": [
    "# Key Error Exception - programmmers try to access the doesn't exist in dictionary\n",
    "\n",
    "dictionary_capitals= {'Madrid':'Spain','Ankara':'Turkey','london':'United Kingdom'}\n",
    "dictionary_capitals['Madrid']\n",
    "dictionary_capitals['Rome']\n"
   ]
  },
  {
   "cell_type": "code",
   "execution_count": null,
   "metadata": {},
   "outputs": [
    {
     "name": "stdout",
     "output_type": "stream",
     "text": [
      "Turkey\n"
     ]
    }
   ],
   "source": [
    "# Handling Python KeyError Exceptions\n",
    "\n",
    "# Preventing Key Error\n",
    "\n",
    "print(dictionary_capitals.get('Ankara'))\n",
    "\n",
    "\n"
   ]
  },
  {
   "cell_type": "code",
   "execution_count": 17,
   "metadata": {},
   "outputs": [
    {
     "name": "stdout",
     "output_type": "stream",
     "text": [
      "Turkey\n"
     ]
    }
   ],
   "source": [
    "capital = 'Ankara'\n",
    "\n",
    "if capital in dictionary_capitals:\n",
    "    value=dictionary_capitals[capital]\n",
    "    print(value)\n",
    "else:\n",
    "    print('Key Error with {}'.format(capital))\n",
    "\n"
   ]
  },
  {
   "cell_type": "code",
   "execution_count": 20,
   "metadata": {},
   "outputs": [
    {
     "name": "stdout",
     "output_type": "stream",
     "text": [
      "Key : Lisbon is not exist in the dictionary\n"
     ]
    }
   ],
   "source": [
    "capital='Lisbon'\n",
    "\n",
    "try:\n",
    "    value=dictionary_capitals[capital]\n",
    "    print(value)\n",
    "\n",
    "except KeyError:\n",
    "    print('Key : {} is not exist in the dictionary'.format(capital))\n"
   ]
  },
  {
   "cell_type": "code",
   "execution_count": 27,
   "metadata": {},
   "outputs": [
    {
     "name": "stdout",
     "output_type": "stream",
     "text": [
      "Original List: ['Huseyin', 'Mehmet', 'Hasan']\n",
      "Copy List:  ['Huseyin', 'Mehmet', 'Hasan']\n",
      "Original List :  [12, 23, 45]\n",
      "Copy List :  [1, 23, 45]\n"
     ]
    }
   ],
   "source": [
    "# Swallow Copy and Deep Copy\n",
    "\n",
    "# Swallow Copy \n",
    "\n",
    "import copy\n",
    "\n",
    "original=['Ahmet','Mehmet','Hasan']\n",
    "\n",
    "copy_list=copy.copy(original)\n",
    "\n",
    "copy_list[0]='Huseyin'\n",
    "\n",
    "print('Original List:',a_list)\n",
    "print('Copy List: ',copy_list)\n",
    "\n",
    "\n",
    "# Deep Copy\n",
    "\n",
    "original=[12,23,45]\n",
    "\n",
    "copy_list=copy.deepcopy(original)\n",
    "\n",
    "copy_list[0]=1\n",
    "\n",
    "print('Original List : ',original)\n",
    "print('Copy List : ',copy_list)\n"
   ]
  },
  {
   "cell_type": "code",
   "execution_count": 33,
   "metadata": {},
   "outputs": [
    {
     "name": "stdout",
     "output_type": "stream",
     "text": [
      "monkey is called\n"
     ]
    }
   ],
   "source": [
    "# Monkey Patching\n",
    "\n",
    "class Monkey:\n",
    "\n",
    "    def patch(self):\n",
    "        print('This is patching')\n",
    "\n",
    "\n",
    "def monkey(self):\n",
    "    print('monkey is called')\n",
    "\n",
    "\n",
    "Monkey.patch=monkey\n",
    "\n",
    "object=Monkey()\n",
    "object.patch()\n",
    "    "
   ]
  },
  {
   "cell_type": "code",
   "execution_count": 41,
   "metadata": {},
   "outputs": [],
   "source": [
    "# With Statement\n",
    "with open('myfile.txt','w') as file :\n",
    "    file.write('Black Friday')\n",
    "\n"
   ]
  },
  {
   "cell_type": "code",
   "execution_count": 40,
   "metadata": {},
   "outputs": [
    {
     "name": "stdout",
     "output_type": "stream",
     "text": [
      "Black Friday\n"
     ]
    }
   ],
   "source": [
    "with open('myfile.txt','r') as file_read:\n",
    "    word=file_read.read()\n",
    "print(word)"
   ]
  },
  {
   "cell_type": "code",
   "execution_count": null,
   "metadata": {},
   "outputs": [
    {
     "name": "stdout",
     "output_type": "stream",
     "text": [
      "This is patch\n"
     ]
    }
   ],
   "source": [
    "# Money patchnig\n",
    "\n",
    "class Monkey:\n",
    "\n",
    "    def monkey(self):\n",
    "        print('This is monkey')\n",
    "\n",
    "def patch(self):\n",
    "    print('This is patch')\n",
    "\n",
    "Monkey.monkey=patch\n",
    "\n",
    "object = Monkey()\n",
    "\n",
    "object.monkey()"
   ]
  },
  {
   "cell_type": "code",
   "execution_count": 47,
   "metadata": {},
   "outputs": [
    {
     "name": "stdout",
     "output_type": "stream",
     "text": [
      "-12.0\n",
      "Successfull\n"
     ]
    }
   ],
   "source": [
    "#try catch statement\n",
    "\n",
    "try:\n",
    "    num1=int(input('Enter the num1: '))\n",
    "    num2= int(input('Enter the num2: '))\n",
    "    division=num1/num2\n",
    "    print(division)\n",
    "except:\n",
    "    print('Invalid input')\n",
    "\n",
    "else:\n",
    "    print('Successfull')"
   ]
  },
  {
   "cell_type": "code",
   "execution_count": 50,
   "metadata": {},
   "outputs": [
    {
     "name": "stdout",
     "output_type": "stream",
     "text": [
      "Decorators in Python\n",
      "Hello\n",
      "After that\n"
     ]
    }
   ],
   "source": [
    "# Decorators in Python\n",
    "\n",
    "def decorator(func):\n",
    "    def wrapper():\n",
    "        print('Decorators in Python')\n",
    "        func()\n",
    "        print('After that')\n",
    "    return wrapper\n",
    "\n",
    "@decorator\n",
    "def say_hello():\n",
    "    print('Hello')\n",
    "\n",
    "say_hello()\n",
    "\n"
   ]
  },
  {
   "cell_type": "code",
   "execution_count": 13,
   "metadata": {},
   "outputs": [
    {
     "data": {
      "text/html": [
       "<div>\n",
       "<style scoped>\n",
       "    .dataframe tbody tr th:only-of-type {\n",
       "        vertical-align: middle;\n",
       "    }\n",
       "\n",
       "    .dataframe tbody tr th {\n",
       "        vertical-align: top;\n",
       "    }\n",
       "\n",
       "    .dataframe thead th {\n",
       "        text-align: right;\n",
       "    }\n",
       "</style>\n",
       "<table border=\"1\" class=\"dataframe\">\n",
       "  <thead>\n",
       "    <tr style=\"text-align: right;\">\n",
       "      <th></th>\n",
       "      <th>id</th>\n",
       "      <th>name</th>\n",
       "      <th>age</th>\n",
       "    </tr>\n",
       "  </thead>\n",
       "  <tbody>\n",
       "    <tr>\n",
       "      <th>0</th>\n",
       "      <td>1</td>\n",
       "      <td>Ahmet</td>\n",
       "      <td>22</td>\n",
       "    </tr>\n",
       "    <tr>\n",
       "      <th>1</th>\n",
       "      <td>2</td>\n",
       "      <td>Hasan</td>\n",
       "      <td>55</td>\n",
       "    </tr>\n",
       "    <tr>\n",
       "      <th>2</th>\n",
       "      <td>3</td>\n",
       "      <td>Mehmet</td>\n",
       "      <td>43</td>\n",
       "    </tr>\n",
       "  </tbody>\n",
       "</table>\n",
       "</div>"
      ],
      "text/plain": [
       "   id    name  age\n",
       "0   1   Ahmet   22\n",
       "1   2   Hasan   55\n",
       "2   3  Mehmet   43"
      ]
     },
     "execution_count": 13,
     "metadata": {},
     "output_type": "execute_result"
    }
   ],
   "source": [
    "import pandas as pd\n",
    "\n",
    "df1=pd.DataFrame({\n",
    "    'id':[1,2,3],\n",
    "    'name':['Ahmet','Hasan','Mehmet']\n",
    "\n",
    "})\n",
    "\n",
    "df2=pd.DataFrame({\n",
    "    'id':[1,2,3],\n",
    "    'age':[22,55,43]\n",
    "})\n",
    "\n",
    "pd.merge(df1,df2,on='id',how='inner')\n",
    "\n",
    "\n",
    "\n"
   ]
  },
  {
   "cell_type": "code",
   "execution_count": 14,
   "metadata": {},
   "outputs": [
    {
     "data": {
      "text/html": [
       "<div>\n",
       "<style scoped>\n",
       "    .dataframe tbody tr th:only-of-type {\n",
       "        vertical-align: middle;\n",
       "    }\n",
       "\n",
       "    .dataframe tbody tr th {\n",
       "        vertical-align: top;\n",
       "    }\n",
       "\n",
       "    .dataframe thead th {\n",
       "        text-align: right;\n",
       "    }\n",
       "</style>\n",
       "<table border=\"1\" class=\"dataframe\">\n",
       "  <thead>\n",
       "    <tr style=\"text-align: right;\">\n",
       "      <th></th>\n",
       "      <th>id</th>\n",
       "      <th>name</th>\n",
       "      <th>age</th>\n",
       "    </tr>\n",
       "  </thead>\n",
       "  <tbody>\n",
       "    <tr>\n",
       "      <th>0</th>\n",
       "      <td>1</td>\n",
       "      <td>Ahmet</td>\n",
       "      <td>NaN</td>\n",
       "    </tr>\n",
       "    <tr>\n",
       "      <th>1</th>\n",
       "      <td>2</td>\n",
       "      <td>Hasan</td>\n",
       "      <td>NaN</td>\n",
       "    </tr>\n",
       "    <tr>\n",
       "      <th>2</th>\n",
       "      <td>3</td>\n",
       "      <td>Mehmet</td>\n",
       "      <td>NaN</td>\n",
       "    </tr>\n",
       "    <tr>\n",
       "      <th>0</th>\n",
       "      <td>1</td>\n",
       "      <td>NaN</td>\n",
       "      <td>22.0</td>\n",
       "    </tr>\n",
       "    <tr>\n",
       "      <th>1</th>\n",
       "      <td>2</td>\n",
       "      <td>NaN</td>\n",
       "      <td>55.0</td>\n",
       "    </tr>\n",
       "    <tr>\n",
       "      <th>2</th>\n",
       "      <td>3</td>\n",
       "      <td>NaN</td>\n",
       "      <td>43.0</td>\n",
       "    </tr>\n",
       "  </tbody>\n",
       "</table>\n",
       "</div>"
      ],
      "text/plain": [
       "   id    name   age\n",
       "0   1   Ahmet   NaN\n",
       "1   2   Hasan   NaN\n",
       "2   3  Mehmet   NaN\n",
       "0   1     NaN  22.0\n",
       "1   2     NaN  55.0\n",
       "2   3     NaN  43.0"
      ]
     },
     "execution_count": 14,
     "metadata": {},
     "output_type": "execute_result"
    }
   ],
   "source": [
    "pd.concat([df1,df2],axis=0)"
   ]
  },
  {
   "cell_type": "code",
   "execution_count": null,
   "metadata": {},
   "outputs": [
    {
     "data": {
      "text/html": [
       "<div>\n",
       "<style scoped>\n",
       "    .dataframe tbody tr th:only-of-type {\n",
       "        vertical-align: middle;\n",
       "    }\n",
       "\n",
       "    .dataframe tbody tr th {\n",
       "        vertical-align: top;\n",
       "    }\n",
       "\n",
       "    .dataframe thead th {\n",
       "        text-align: right;\n",
       "    }\n",
       "</style>\n",
       "<table border=\"1\" class=\"dataframe\">\n",
       "  <thead>\n",
       "    <tr style=\"text-align: right;\">\n",
       "      <th></th>\n",
       "      <th>id_left</th>\n",
       "      <th>name</th>\n",
       "      <th>id_right</th>\n",
       "      <th>age</th>\n",
       "    </tr>\n",
       "  </thead>\n",
       "  <tbody>\n",
       "    <tr>\n",
       "      <th>0</th>\n",
       "      <td>1</td>\n",
       "      <td>Ahmet</td>\n",
       "      <td>1</td>\n",
       "      <td>22</td>\n",
       "    </tr>\n",
       "    <tr>\n",
       "      <th>1</th>\n",
       "      <td>2</td>\n",
       "      <td>Hasan</td>\n",
       "      <td>2</td>\n",
       "      <td>55</td>\n",
       "    </tr>\n",
       "    <tr>\n",
       "      <th>2</th>\n",
       "      <td>4</td>\n",
       "      <td>Mehmet</td>\n",
       "      <td>3</td>\n",
       "      <td>43</td>\n",
       "    </tr>\n",
       "  </tbody>\n",
       "</table>\n",
       "</div>"
      ],
      "text/plain": [
       "   id_left    name  id_right  age\n",
       "0        1   Ahmet         1   22\n",
       "1        2   Hasan         2   55\n",
       "2        4  Mehmet         3   43"
      ]
     },
     "execution_count": 26,
     "metadata": {},
     "output_type": "execute_result"
    }
   ],
   "source": [
    "import pandas as pd\n",
    "\n",
    "df5=pd.DataFrame({\n",
    "    'id':[1,2,4],\n",
    "    'name':['Ahmet','Hasan','Mehmet']\n",
    "\n",
    "})\n",
    "\n",
    "df6=pd.DataFrame({\n",
    "    'id':[1,2,3],\n",
    "    'age':[22,55,43]\n",
    "})\n",
    "\n",
    "\n",
    "\n"
   ]
  },
  {
   "cell_type": "code",
   "execution_count": 31,
   "metadata": {},
   "outputs": [
    {
     "data": {
      "text/plain": [
       "age     0\n",
       "name    2\n",
       "dtype: int64"
      ]
     },
     "execution_count": 31,
     "metadata": {},
     "output_type": "execute_result"
    }
   ],
   "source": [
    "# 17. How do you identify and deal with missing values?\n",
    "\n",
    "import pandas as pd\n",
    "import numpy as np\n",
    "\n",
    "\n",
    "dict={'age':[22,34,45],\n",
    "     'name':['Mehmet',np.nan,np.nan]}\n",
    "\n",
    "df = pd.DataFrame(dict)\n",
    "\n",
    "df.isnull().sum()\n",
    "\n"
   ]
  },
  {
   "cell_type": "code",
   "execution_count": 32,
   "metadata": {},
   "outputs": [
    {
     "name": "stderr",
     "output_type": "stream",
     "text": [
      "C:\\Users\\karab\\AppData\\Local\\Temp\\ipykernel_20828\\2183686296.py:7: FutureWarning: DataFrame.fillna with 'method' is deprecated and will raise in a future version. Use obj.ffill() or obj.bfill() instead.\n",
      "  df.fillna(method='bfill')\n",
      "C:\\Users\\karab\\AppData\\Local\\Temp\\ipykernel_20828\\2183686296.py:13: FutureWarning: DataFrame.interpolate with object dtype is deprecated and will raise in a future version. Call obj.infer_objects(copy=False) before interpolating instead.\n",
      "  df.interpolate(method='linear',limit_direction='forward')\n"
     ]
    },
    {
     "data": {
      "text/html": [
       "<div>\n",
       "<style scoped>\n",
       "    .dataframe tbody tr th:only-of-type {\n",
       "        vertical-align: middle;\n",
       "    }\n",
       "\n",
       "    .dataframe tbody tr th {\n",
       "        vertical-align: top;\n",
       "    }\n",
       "\n",
       "    .dataframe thead th {\n",
       "        text-align: right;\n",
       "    }\n",
       "</style>\n",
       "<table border=\"1\" class=\"dataframe\">\n",
       "  <thead>\n",
       "    <tr style=\"text-align: right;\">\n",
       "      <th></th>\n",
       "      <th>age</th>\n",
       "      <th>name</th>\n",
       "    </tr>\n",
       "  </thead>\n",
       "  <tbody>\n",
       "    <tr>\n",
       "      <th>0</th>\n",
       "      <td>22</td>\n",
       "      <td>Mehmet</td>\n",
       "    </tr>\n",
       "    <tr>\n",
       "      <th>1</th>\n",
       "      <td>34</td>\n",
       "      <td>NaN</td>\n",
       "    </tr>\n",
       "    <tr>\n",
       "      <th>2</th>\n",
       "      <td>45</td>\n",
       "      <td>NaN</td>\n",
       "    </tr>\n",
       "  </tbody>\n",
       "</table>\n",
       "</div>"
      ],
      "text/plain": [
       "   age    name\n",
       "0   22  Mehmet\n",
       "1   34     NaN\n",
       "2   45     NaN"
      ]
     },
     "execution_count": 32,
     "metadata": {},
     "output_type": "execute_result"
    }
   ],
   "source": [
    "# Dealing with missing values\n",
    "\n",
    "#drop missing value\n",
    "df.dropna(axis=0,how='any')\n",
    "\n",
    "#fillna\n",
    "df.fillna(method='bfill')\n",
    "\n",
    "# replace to null value\n",
    "df.replace(to_replace=np.nan,value=10)\n",
    "\n",
    "# Interpolalte\n",
    "df.interpolate(method='linear',limit_direction='forward')\n",
    "\n"
   ]
  },
  {
   "cell_type": "code",
   "execution_count": null,
   "metadata": {},
   "outputs": [],
   "source": []
  }
 ],
 "metadata": {
  "kernelspec": {
   "display_name": "myenv",
   "language": "python",
   "name": "python3"
  },
  "language_info": {
   "codemirror_mode": {
    "name": "ipython",
    "version": 3
   },
   "file_extension": ".py",
   "mimetype": "text/x-python",
   "name": "python",
   "nbconvert_exporter": "python",
   "pygments_lexer": "ipython3",
   "version": "3.11.9"
  }
 },
 "nbformat": 4,
 "nbformat_minor": 2
}
