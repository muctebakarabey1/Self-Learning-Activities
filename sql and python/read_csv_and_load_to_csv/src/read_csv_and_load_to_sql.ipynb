{
 "cells": [
  {
   "cell_type": "markdown",
   "metadata": {},
   "source": [
    "## Read data from a csv file using pandas\n"
   ]
  },
  {
   "cell_type": "code",
   "execution_count": null,
   "metadata": {},
   "outputs": [
    {
     "name": "stdout",
     "output_type": "stream",
     "text": [
      "    Username   Identifier First name Last name\n",
      "0   booker12         9012     Rachel    Booker\n",
      "1     grey07         2070      Laura      Grey\n",
      "2  johnson81         4081      Craig   Johnson\n",
      "3  jenkins46         9346       Mary   Jenkins\n",
      "4    smith79         5079      Jamie     Smith\n"
     ]
    }
   ],
   "source": [
    "# Import the library\n",
    "import pandas as pd\n",
    "import numpy as np\n",
    "\n",
    "\n",
    "data = pd.read_csv(r'C:\\Users\\karab\\Desktop\\Self-Learning\\self-learning-activities\\dataset\\username.csv', delimiter=';')\n",
    "\n",
    "print(data)"
   ]
  },
  {
   "cell_type": "markdown",
   "metadata": {},
   "source": [
    "# Make 5 transformation\n"
   ]
  },
  {
   "cell_type": "code",
   "execution_count": 6,
   "metadata": {},
   "outputs": [],
   "source": [
    "# Remove the space from column names\n",
    "data.columns = data.columns.str.strip()\n"
   ]
  },
  {
   "cell_type": "code",
   "execution_count": null,
   "metadata": {},
   "outputs": [
    {
     "name": "stdout",
     "output_type": "stream",
     "text": [
      "  Identifier First name Last name  Age\n",
      "1       2070      Laura      Grey   22\n",
      "2       4081      Craig   Johnson   35\n",
      "4       5079      Jamie     Smith   43\n",
      "0       9012     Rachel    Booker   45\n",
      "3       9346       Mary   Jenkins   67\n"
     ]
    }
   ],
   "source": [
    "# 1-) Sorting the values\n",
    "data=data.sort_values(by='Identifier',ascending=True) \n",
    "\n",
    "# 2-) Transform the 'Identifier' column to a string type\n",
    "data['Identifier']=data['Identifier'].astype('str')\n",
    "\n",
    "# 3-) Add new column\n",
    "if not 'Age' in data:\n",
    "    data['Age']=[22,35,43,45,67]\n",
    "\n",
    "# 4-) Delete the 'Username' column from the table\n",
    "if 'Username' in data:\n",
    "    data.drop(columns=['Username'])\n",
    "\n",
    "# 5-) Normalization\n",
    "data['Age'] = (data['Age'] - np.min(data['Age'])) / (np.max(data['Age']) - np.min(data['Age']))\n"
   ]
  },
  {
   "cell_type": "markdown",
   "metadata": {},
   "source": [
    "## Connect the database"
   ]
  },
  {
   "cell_type": "code",
   "execution_count": null,
   "metadata": {},
   "outputs": [
    {
     "name": "stdout",
     "output_type": "stream",
     "text": [
      "Connection is successful\n"
     ]
    }
   ],
   "source": [
    "# Import the library\n",
    "from sqlalchemy import create_engine\n",
    "import pymysql\n",
    "\n",
    "# Connection info\n",
    "user = 'root'\n",
    "password = '1234'\n",
    "host = 'localhost'\n",
    "database = 'new_database'\n",
    "\n",
    "# Connect with MySql\n",
    "engine = create_engine(f\"mysql+pymysql://{user}:{password}@{host}/{database}\")\n",
    "\n",
    "# Check the Connection\n",
    "try:\n",
    "    with engine.connect() as connection:\n",
    "        print(\"Connection is successful\")\n",
    "except Exception as e:\n",
    "    print(f\"Error : {e}\")\n"
   ]
  },
  {
   "cell_type": "markdown",
   "metadata": {},
   "source": [
    "## Load the transformed data into Database as table"
   ]
  },
  {
   "cell_type": "code",
   "execution_count": 8,
   "metadata": {},
   "outputs": [
    {
     "data": {
      "text/plain": [
       "5"
      ]
     },
     "execution_count": 8,
     "metadata": {},
     "output_type": "execute_result"
    }
   ],
   "source": [
    "data.to_sql(name='user_data', con=engine, if_exists='replace', index=False)"
   ]
  }
 ],
 "metadata": {
  "kernelspec": {
   "display_name": "myenv",
   "language": "python",
   "name": "python3"
  },
  "language_info": {
   "codemirror_mode": {
    "name": "ipython",
    "version": 3
   },
   "file_extension": ".py",
   "mimetype": "text/x-python",
   "name": "python",
   "nbconvert_exporter": "python",
   "pygments_lexer": "ipython3",
   "version": "3.11.9"
  }
 },
 "nbformat": 4,
 "nbformat_minor": 2
}
