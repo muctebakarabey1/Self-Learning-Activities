{
 "cells": [
  {
   "cell_type": "code",
   "execution_count": null,
   "metadata": {},
   "outputs": [
    {
     "data": {
      "text/plain": [
       "[1, 4, 5, 7, 'Ahmet', 12]"
      ]
     },
     "execution_count": 2,
     "metadata": {},
     "output_type": "execute_result"
    }
   ],
   "source": [
    "# List - Mutable, low performance, high memory\n",
    "a_list=[1,4,5,7]\n",
    "a_list.append('Ahmet')\n",
    "a_list.append(12)\n",
    "a_list"
   ]
  },
  {
   "cell_type": "code",
   "execution_count": 4,
   "metadata": {},
   "outputs": [
    {
     "data": {
      "text/plain": [
       "(1, 3, 5, 'Mehmet')"
      ]
     },
     "execution_count": 4,
     "metadata": {},
     "output_type": "execute_result"
    }
   ],
   "source": [
    "# Tuples - Immutable, high performance, less memory\n",
    "a_tuple=(1,3,5,'Mehmet')\n",
    "a_tuple"
   ]
  },
  {
   "cell_type": "code",
   "execution_count": 6,
   "metadata": {},
   "outputs": [
    {
     "name": "stdout",
     "output_type": "stream",
     "text": [
      "Title of book is  Sandman\n"
     ]
    }
   ],
   "source": [
    "# 3. What is __init__() in Python? - OOP term, initial\n",
    "\n",
    "class Bookshop:\n",
    "\n",
    "    def __init__(self,title):\n",
    "        self.title=title\n",
    "\n",
    "    def book(self):\n",
    "        print('Title of book is ',self.title)\n",
    "        \n",
    "b=Bookshop('Sandman')\n",
    "b.book()\n",
    "\n",
    "\n",
    "    \n"
   ]
  },
  {
   "cell_type": "code",
   "execution_count": 8,
   "metadata": {},
   "outputs": [
    {
     "name": "stdout",
     "output_type": "stream",
     "text": [
      "{'a': 4, 'b': 2}\n",
      "{1, 2, 3, 33}\n"
     ]
    }
   ],
   "source": [
    "# Mutable Data Type - List,Dictionary,Set\n",
    "\n",
    "# List\n",
    "a_list=[12,34,33]\n",
    "a_list.append(44)\n",
    "\n",
    "# Dictioanary\n",
    "a_dict={'a':1,'b':2}\n",
    "a_dict['a']=4\n",
    "print(a_dict)\n",
    "\n",
    "# Set\n",
    "a_set={1,2,3}\n",
    "a_set.add(33)\n",
    "print(a_set)\n"
   ]
  },
  {
   "cell_type": "code",
   "execution_count": 9,
   "metadata": {},
   "outputs": [
    {
     "name": "stdout",
     "output_type": "stream",
     "text": [
      "('Ahmet', 44, 33)\n"
     ]
    }
   ],
   "source": [
    "# Immutable Data Types - Numeric,String,Tuples\n",
    "\n",
    "string= 'Ali Hello'\n",
    "string= 'Hi' # New Object\n",
    "\n",
    "a_tuples=('Ahmet',44,33)\n",
    "print(a_tuples)\n",
    "\n"
   ]
  },
  {
   "cell_type": "code",
   "execution_count": 11,
   "metadata": {},
   "outputs": [
    {
     "ename": "KeyError",
     "evalue": "'Rome'",
     "output_type": "error",
     "traceback": [
      "\u001b[1;31m---------------------------------------------------------------------------\u001b[0m",
      "\u001b[1;31mKeyError\u001b[0m                                  Traceback (most recent call last)",
      "Cell \u001b[1;32mIn[11], line 5\u001b[0m\n\u001b[0;32m      3\u001b[0m dictionary_capitals\u001b[38;5;241m=\u001b[39m {\u001b[38;5;124m'\u001b[39m\u001b[38;5;124mMadrid\u001b[39m\u001b[38;5;124m'\u001b[39m:\u001b[38;5;124m'\u001b[39m\u001b[38;5;124mSpain\u001b[39m\u001b[38;5;124m'\u001b[39m,\u001b[38;5;124m'\u001b[39m\u001b[38;5;124mAnkara\u001b[39m\u001b[38;5;124m'\u001b[39m:\u001b[38;5;124m'\u001b[39m\u001b[38;5;124mTurkey\u001b[39m\u001b[38;5;124m'\u001b[39m,\u001b[38;5;124m'\u001b[39m\u001b[38;5;124mlondon\u001b[39m\u001b[38;5;124m'\u001b[39m:\u001b[38;5;124m'\u001b[39m\u001b[38;5;124mUnited Kingdom\u001b[39m\u001b[38;5;124m'\u001b[39m}\n\u001b[0;32m      4\u001b[0m dictionary_capitals[\u001b[38;5;124m'\u001b[39m\u001b[38;5;124mMadrid\u001b[39m\u001b[38;5;124m'\u001b[39m]\n\u001b[1;32m----> 5\u001b[0m \u001b[43mdictionary_capitals\u001b[49m\u001b[43m[\u001b[49m\u001b[38;5;124;43m'\u001b[39;49m\u001b[38;5;124;43mRome\u001b[39;49m\u001b[38;5;124;43m'\u001b[39;49m\u001b[43m]\u001b[49m\n",
      "\u001b[1;31mKeyError\u001b[0m: 'Rome'"
     ]
    }
   ],
   "source": [
    "# Key Error Exception - programmmers try to access the doesn't exist in dictionary\n",
    "\n",
    "dictionary_capitals= {'Madrid':'Spain','Ankara':'Turkey','london':'United Kingdom'}\n",
    "dictionary_capitals['Madrid']\n",
    "dictionary_capitals['Rome']\n"
   ]
  },
  {
   "cell_type": "code",
   "execution_count": null,
   "metadata": {},
   "outputs": [
    {
     "name": "stdout",
     "output_type": "stream",
     "text": [
      "Turkey\n"
     ]
    }
   ],
   "source": [
    "# Handling Python KeyError Exceptions\n",
    "\n",
    "# Preventing Key Error\n",
    "\n",
    "print(dictionary_capitals.get('Ankara'))\n",
    "\n",
    "\n"
   ]
  },
  {
   "cell_type": "code",
   "execution_count": 17,
   "metadata": {},
   "outputs": [
    {
     "name": "stdout",
     "output_type": "stream",
     "text": [
      "Turkey\n"
     ]
    }
   ],
   "source": [
    "capital = 'Ankara'\n",
    "\n",
    "if capital in dictionary_capitals:\n",
    "    value=dictionary_capitals[capital]\n",
    "    print(value)\n",
    "else:\n",
    "    print('Key Error with {}'.format(capital))\n",
    "\n"
   ]
  },
  {
   "cell_type": "code",
   "execution_count": 20,
   "metadata": {},
   "outputs": [
    {
     "name": "stdout",
     "output_type": "stream",
     "text": [
      "Key : Lisbon is not exist in the dictionary\n"
     ]
    }
   ],
   "source": [
    "capital='Lisbon'\n",
    "\n",
    "try:\n",
    "    value=dictionary_capitals[capital]\n",
    "    print(value)\n",
    "\n",
    "except KeyError:\n",
    "    print('Key : {} is not exist in the dictionary'.format(capital))\n"
   ]
  },
  {
   "cell_type": "code",
   "execution_count": 27,
   "metadata": {},
   "outputs": [
    {
     "name": "stdout",
     "output_type": "stream",
     "text": [
      "Original List: ['Huseyin', 'Mehmet', 'Hasan']\n",
      "Copy List:  ['Huseyin', 'Mehmet', 'Hasan']\n",
      "Original List :  [12, 23, 45]\n",
      "Copy List :  [1, 23, 45]\n"
     ]
    }
   ],
   "source": [
    "# Swallow Copy and Deep Copy\n",
    "\n",
    "# Swallow Copy \n",
    "\n",
    "import copy\n",
    "\n",
    "original=['Ahmet','Mehmet','Hasan']\n",
    "\n",
    "copy_list=copy.copy(original)\n",
    "\n",
    "copy_list[0]='Huseyin'\n",
    "\n",
    "print('Original List:',a_list)\n",
    "print('Copy List: ',copy_list)\n",
    "\n",
    "\n",
    "# Deep Copy\n",
    "\n",
    "original=[12,23,45]\n",
    "\n",
    "copy_list=copy.deepcopy(original)\n",
    "\n",
    "copy_list[0]=1\n",
    "\n",
    "print('Original List : ',original)\n",
    "print('Copy List : ',copy_list)\n"
   ]
  },
  {
   "cell_type": "code",
   "execution_count": 33,
   "metadata": {},
   "outputs": [
    {
     "name": "stdout",
     "output_type": "stream",
     "text": [
      "monkey is called\n"
     ]
    }
   ],
   "source": [
    "# Monkey Patching\n",
    "\n",
    "class Monkey:\n",
    "\n",
    "    def patch(self):\n",
    "        print('This is patching')\n",
    "\n",
    "\n",
    "def monkey(self):\n",
    "    print('monkey is called')\n",
    "\n",
    "\n",
    "Monkey.patch=monkey\n",
    "\n",
    "object=Monkey()\n",
    "object.patch()\n",
    "    "
   ]
  },
  {
   "cell_type": "code",
   "execution_count": 41,
   "metadata": {},
   "outputs": [],
   "source": [
    "# With Statement\n",
    "with open('myfile.txt','w') as file :\n",
    "    file.write('Black Friday')\n",
    "\n"
   ]
  },
  {
   "cell_type": "code",
   "execution_count": 40,
   "metadata": {},
   "outputs": [
    {
     "name": "stdout",
     "output_type": "stream",
     "text": [
      "Black Friday\n"
     ]
    }
   ],
   "source": [
    "with open('myfile.txt','r') as file_read:\n",
    "    word=file_read.read()\n",
    "print(word)"
   ]
  },
  {
   "cell_type": "code",
   "execution_count": null,
   "metadata": {},
   "outputs": [
    {
     "name": "stdout",
     "output_type": "stream",
     "text": [
      "This is patch\n"
     ]
    }
   ],
   "source": [
    "# Money patchnig\n",
    "\n",
    "class Monkey:\n",
    "\n",
    "    def monkey(self):\n",
    "        print('This is monkey')\n",
    "\n",
    "def patch(self):\n",
    "    print('This is patch')\n",
    "\n",
    "Monkey.monkey=patch\n",
    "\n",
    "object = Monkey()\n",
    "\n",
    "object.monkey()"
   ]
  },
  {
   "cell_type": "code",
   "execution_count": 47,
   "metadata": {},
   "outputs": [
    {
     "name": "stdout",
     "output_type": "stream",
     "text": [
      "-12.0\n",
      "Successfull\n"
     ]
    }
   ],
   "source": [
    "#try catch statement\n",
    "\n",
    "try:\n",
    "    num1=int(input('Enter the num1: '))\n",
    "    num2= int(input('Enter the num2: '))\n",
    "    division=num1/num2\n",
    "    print(division)\n",
    "except:\n",
    "    print('Invalid input')\n",
    "\n",
    "else:\n",
    "    print('Successfull')"
   ]
  },
  {
   "cell_type": "code",
   "execution_count": 50,
   "metadata": {},
   "outputs": [
    {
     "name": "stdout",
     "output_type": "stream",
     "text": [
      "Decorators in Python\n",
      "Hello\n",
      "After that\n"
     ]
    }
   ],
   "source": [
    "# Decorators in Python\n",
    "\n",
    "def decorator(func):\n",
    "    def wrapper():\n",
    "        print('Decorators in Python')\n",
    "        func()\n",
    "        print('After that')\n",
    "    return wrapper\n",
    "\n",
    "@decorator\n",
    "def say_hello():\n",
    "    print('Hello')\n",
    "\n",
    "say_hello()\n",
    "\n"
   ]
  },
  {
   "cell_type": "code",
   "execution_count": 13,
   "metadata": {},
   "outputs": [
    {
     "data": {
      "text/html": [
       "<div>\n",
       "<style scoped>\n",
       "    .dataframe tbody tr th:only-of-type {\n",
       "        vertical-align: middle;\n",
       "    }\n",
       "\n",
       "    .dataframe tbody tr th {\n",
       "        vertical-align: top;\n",
       "    }\n",
       "\n",
       "    .dataframe thead th {\n",
       "        text-align: right;\n",
       "    }\n",
       "</style>\n",
       "<table border=\"1\" class=\"dataframe\">\n",
       "  <thead>\n",
       "    <tr style=\"text-align: right;\">\n",
       "      <th></th>\n",
       "      <th>id</th>\n",
       "      <th>name</th>\n",
       "      <th>age</th>\n",
       "    </tr>\n",
       "  </thead>\n",
       "  <tbody>\n",
       "    <tr>\n",
       "      <th>0</th>\n",
       "      <td>1</td>\n",
       "      <td>Ahmet</td>\n",
       "      <td>22</td>\n",
       "    </tr>\n",
       "    <tr>\n",
       "      <th>1</th>\n",
       "      <td>2</td>\n",
       "      <td>Hasan</td>\n",
       "      <td>55</td>\n",
       "    </tr>\n",
       "    <tr>\n",
       "      <th>2</th>\n",
       "      <td>3</td>\n",
       "      <td>Mehmet</td>\n",
       "      <td>43</td>\n",
       "    </tr>\n",
       "  </tbody>\n",
       "</table>\n",
       "</div>"
      ],
      "text/plain": [
       "   id    name  age\n",
       "0   1   Ahmet   22\n",
       "1   2   Hasan   55\n",
       "2   3  Mehmet   43"
      ]
     },
     "execution_count": 13,
     "metadata": {},
     "output_type": "execute_result"
    }
   ],
   "source": [
    "import pandas as pd\n",
    "\n",
    "df1=pd.DataFrame({\n",
    "    'id':[1,2,3],\n",
    "    'name':['Ahmet','Hasan','Mehmet']\n",
    "\n",
    "})\n",
    "\n",
    "df2=pd.DataFrame({\n",
    "    'id':[1,2,3],\n",
    "    'age':[22,55,43]\n",
    "})\n",
    "\n",
    "pd.merge(df1,df2,on='id',how='inner')\n",
    "\n",
    "\n",
    "\n"
   ]
  },
  {
   "cell_type": "code",
   "execution_count": 14,
   "metadata": {},
   "outputs": [
    {
     "data": {
      "text/html": [
       "<div>\n",
       "<style scoped>\n",
       "    .dataframe tbody tr th:only-of-type {\n",
       "        vertical-align: middle;\n",
       "    }\n",
       "\n",
       "    .dataframe tbody tr th {\n",
       "        vertical-align: top;\n",
       "    }\n",
       "\n",
       "    .dataframe thead th {\n",
       "        text-align: right;\n",
       "    }\n",
       "</style>\n",
       "<table border=\"1\" class=\"dataframe\">\n",
       "  <thead>\n",
       "    <tr style=\"text-align: right;\">\n",
       "      <th></th>\n",
       "      <th>id</th>\n",
       "      <th>name</th>\n",
       "      <th>age</th>\n",
       "    </tr>\n",
       "  </thead>\n",
       "  <tbody>\n",
       "    <tr>\n",
       "      <th>0</th>\n",
       "      <td>1</td>\n",
       "      <td>Ahmet</td>\n",
       "      <td>NaN</td>\n",
       "    </tr>\n",
       "    <tr>\n",
       "      <th>1</th>\n",
       "      <td>2</td>\n",
       "      <td>Hasan</td>\n",
       "      <td>NaN</td>\n",
       "    </tr>\n",
       "    <tr>\n",
       "      <th>2</th>\n",
       "      <td>3</td>\n",
       "      <td>Mehmet</td>\n",
       "      <td>NaN</td>\n",
       "    </tr>\n",
       "    <tr>\n",
       "      <th>0</th>\n",
       "      <td>1</td>\n",
       "      <td>NaN</td>\n",
       "      <td>22.0</td>\n",
       "    </tr>\n",
       "    <tr>\n",
       "      <th>1</th>\n",
       "      <td>2</td>\n",
       "      <td>NaN</td>\n",
       "      <td>55.0</td>\n",
       "    </tr>\n",
       "    <tr>\n",
       "      <th>2</th>\n",
       "      <td>3</td>\n",
       "      <td>NaN</td>\n",
       "      <td>43.0</td>\n",
       "    </tr>\n",
       "  </tbody>\n",
       "</table>\n",
       "</div>"
      ],
      "text/plain": [
       "   id    name   age\n",
       "0   1   Ahmet   NaN\n",
       "1   2   Hasan   NaN\n",
       "2   3  Mehmet   NaN\n",
       "0   1     NaN  22.0\n",
       "1   2     NaN  55.0\n",
       "2   3     NaN  43.0"
      ]
     },
     "execution_count": 14,
     "metadata": {},
     "output_type": "execute_result"
    }
   ],
   "source": [
    "pd.concat([df1,df2],axis=0)"
   ]
  },
  {
   "cell_type": "code",
   "execution_count": null,
   "metadata": {},
   "outputs": [
    {
     "data": {
      "text/html": [
       "<div>\n",
       "<style scoped>\n",
       "    .dataframe tbody tr th:only-of-type {\n",
       "        vertical-align: middle;\n",
       "    }\n",
       "\n",
       "    .dataframe tbody tr th {\n",
       "        vertical-align: top;\n",
       "    }\n",
       "\n",
       "    .dataframe thead th {\n",
       "        text-align: right;\n",
       "    }\n",
       "</style>\n",
       "<table border=\"1\" class=\"dataframe\">\n",
       "  <thead>\n",
       "    <tr style=\"text-align: right;\">\n",
       "      <th></th>\n",
       "      <th>id_left</th>\n",
       "      <th>name</th>\n",
       "      <th>id_right</th>\n",
       "      <th>age</th>\n",
       "    </tr>\n",
       "  </thead>\n",
       "  <tbody>\n",
       "    <tr>\n",
       "      <th>0</th>\n",
       "      <td>1</td>\n",
       "      <td>Ahmet</td>\n",
       "      <td>1</td>\n",
       "      <td>22</td>\n",
       "    </tr>\n",
       "    <tr>\n",
       "      <th>1</th>\n",
       "      <td>2</td>\n",
       "      <td>Hasan</td>\n",
       "      <td>2</td>\n",
       "      <td>55</td>\n",
       "    </tr>\n",
       "    <tr>\n",
       "      <th>2</th>\n",
       "      <td>4</td>\n",
       "      <td>Mehmet</td>\n",
       "      <td>3</td>\n",
       "      <td>43</td>\n",
       "    </tr>\n",
       "  </tbody>\n",
       "</table>\n",
       "</div>"
      ],
      "text/plain": [
       "   id_left    name  id_right  age\n",
       "0        1   Ahmet         1   22\n",
       "1        2   Hasan         2   55\n",
       "2        4  Mehmet         3   43"
      ]
     },
     "execution_count": 26,
     "metadata": {},
     "output_type": "execute_result"
    }
   ],
   "source": [
    "import pandas as pd\n",
    "\n",
    "df5=pd.DataFrame({\n",
    "    'id':[1,2,4],\n",
    "    'name':['Ahmet','Hasan','Mehmet']\n",
    "\n",
    "})\n",
    "\n",
    "df6=pd.DataFrame({\n",
    "    'id':[1,2,3],\n",
    "    'age':[22,55,43]\n",
    "})\n",
    "\n",
    "\n",
    "\n"
   ]
  },
  {
   "cell_type": "code",
   "execution_count": 31,
   "metadata": {},
   "outputs": [
    {
     "data": {
      "text/plain": [
       "age     0\n",
       "name    2\n",
       "dtype: int64"
      ]
     },
     "execution_count": 31,
     "metadata": {},
     "output_type": "execute_result"
    }
   ],
   "source": [
    "# 17. How do you identify and deal with missing values?\n",
    "\n",
    "import pandas as pd\n",
    "import numpy as np\n",
    "\n",
    "\n",
    "dict={'age':[22,34,45],\n",
    "     'name':['Mehmet',np.nan,np.nan]}\n",
    "\n",
    "df = pd.DataFrame(dict)\n",
    "\n",
    "df.isnull().sum()\n",
    "\n"
   ]
  },
  {
   "cell_type": "code",
   "execution_count": 32,
   "metadata": {},
   "outputs": [
    {
     "name": "stderr",
     "output_type": "stream",
     "text": [
      "C:\\Users\\karab\\AppData\\Local\\Temp\\ipykernel_20828\\2183686296.py:7: FutureWarning: DataFrame.fillna with 'method' is deprecated and will raise in a future version. Use obj.ffill() or obj.bfill() instead.\n",
      "  df.fillna(method='bfill')\n",
      "C:\\Users\\karab\\AppData\\Local\\Temp\\ipykernel_20828\\2183686296.py:13: FutureWarning: DataFrame.interpolate with object dtype is deprecated and will raise in a future version. Call obj.infer_objects(copy=False) before interpolating instead.\n",
      "  df.interpolate(method='linear',limit_direction='forward')\n"
     ]
    },
    {
     "data": {
      "text/html": [
       "<div>\n",
       "<style scoped>\n",
       "    .dataframe tbody tr th:only-of-type {\n",
       "        vertical-align: middle;\n",
       "    }\n",
       "\n",
       "    .dataframe tbody tr th {\n",
       "        vertical-align: top;\n",
       "    }\n",
       "\n",
       "    .dataframe thead th {\n",
       "        text-align: right;\n",
       "    }\n",
       "</style>\n",
       "<table border=\"1\" class=\"dataframe\">\n",
       "  <thead>\n",
       "    <tr style=\"text-align: right;\">\n",
       "      <th></th>\n",
       "      <th>age</th>\n",
       "      <th>name</th>\n",
       "    </tr>\n",
       "  </thead>\n",
       "  <tbody>\n",
       "    <tr>\n",
       "      <th>0</th>\n",
       "      <td>22</td>\n",
       "      <td>Mehmet</td>\n",
       "    </tr>\n",
       "    <tr>\n",
       "      <th>1</th>\n",
       "      <td>34</td>\n",
       "      <td>NaN</td>\n",
       "    </tr>\n",
       "    <tr>\n",
       "      <th>2</th>\n",
       "      <td>45</td>\n",
       "      <td>NaN</td>\n",
       "    </tr>\n",
       "  </tbody>\n",
       "</table>\n",
       "</div>"
      ],
      "text/plain": [
       "   age    name\n",
       "0   22  Mehmet\n",
       "1   34     NaN\n",
       "2   45     NaN"
      ]
     },
     "execution_count": 32,
     "metadata": {},
     "output_type": "execute_result"
    }
   ],
   "source": [
    "# Dealing with missing values\n",
    "\n",
    "#drop missing value\n",
    "df.dropna(axis=0,how='any')\n",
    "\n",
    "#fillna\n",
    "df.fillna(method='bfill')\n",
    "\n",
    "# replace to null value\n",
    "df.replace(to_replace=np.nan,value=10)\n",
    "\n",
    "# Interpolalte\n",
    "df.interpolate(method='linear',limit_direction='forward')\n",
    "\n"
   ]
  },
  {
   "cell_type": "code",
   "execution_count": 39,
   "metadata": {},
   "outputs": [],
   "source": [
    "np.random.seed()\n",
    "data=np.random.randn(100)\n",
    "\n",
    "df=pd.DataFrame({'Category ': np.random.choice(['A','B','C'],size=100),'Values':data})\n"
   ]
  },
  {
   "cell_type": "code",
   "execution_count": 40,
   "metadata": {},
   "outputs": [
    {
     "data": {
      "text/html": [
       "<div>\n",
       "<style scoped>\n",
       "    .dataframe tbody tr th:only-of-type {\n",
       "        vertical-align: middle;\n",
       "    }\n",
       "\n",
       "    .dataframe tbody tr th {\n",
       "        vertical-align: top;\n",
       "    }\n",
       "\n",
       "    .dataframe thead th {\n",
       "        text-align: right;\n",
       "    }\n",
       "</style>\n",
       "<table border=\"1\" class=\"dataframe\">\n",
       "  <thead>\n",
       "    <tr style=\"text-align: right;\">\n",
       "      <th></th>\n",
       "      <th>Category</th>\n",
       "      <th>Values</th>\n",
       "    </tr>\n",
       "  </thead>\n",
       "  <tbody>\n",
       "    <tr>\n",
       "      <th>0</th>\n",
       "      <td>A</td>\n",
       "      <td>1.117205</td>\n",
       "    </tr>\n",
       "    <tr>\n",
       "      <th>1</th>\n",
       "      <td>C</td>\n",
       "      <td>1.745484</td>\n",
       "    </tr>\n",
       "    <tr>\n",
       "      <th>2</th>\n",
       "      <td>A</td>\n",
       "      <td>1.128163</td>\n",
       "    </tr>\n",
       "    <tr>\n",
       "      <th>3</th>\n",
       "      <td>A</td>\n",
       "      <td>0.697049</td>\n",
       "    </tr>\n",
       "    <tr>\n",
       "      <th>4</th>\n",
       "      <td>A</td>\n",
       "      <td>0.696157</td>\n",
       "    </tr>\n",
       "    <tr>\n",
       "      <th>...</th>\n",
       "      <td>...</td>\n",
       "      <td>...</td>\n",
       "    </tr>\n",
       "    <tr>\n",
       "      <th>95</th>\n",
       "      <td>A</td>\n",
       "      <td>0.570366</td>\n",
       "    </tr>\n",
       "    <tr>\n",
       "      <th>96</th>\n",
       "      <td>C</td>\n",
       "      <td>1.213612</td>\n",
       "    </tr>\n",
       "    <tr>\n",
       "      <th>97</th>\n",
       "      <td>A</td>\n",
       "      <td>-1.706633</td>\n",
       "    </tr>\n",
       "    <tr>\n",
       "      <th>98</th>\n",
       "      <td>C</td>\n",
       "      <td>-0.924225</td>\n",
       "    </tr>\n",
       "    <tr>\n",
       "      <th>99</th>\n",
       "      <td>A</td>\n",
       "      <td>0.789489</td>\n",
       "    </tr>\n",
       "  </tbody>\n",
       "</table>\n",
       "<p>100 rows × 2 columns</p>\n",
       "</div>"
      ],
      "text/plain": [
       "   Category     Values\n",
       "0          A  1.117205\n",
       "1          C  1.745484\n",
       "2          A  1.128163\n",
       "3          A  0.697049\n",
       "4          A  0.696157\n",
       "..       ...       ...\n",
       "95         A  0.570366\n",
       "96         C  1.213612\n",
       "97         A -1.706633\n",
       "98         C -0.924225\n",
       "99         A  0.789489\n",
       "\n",
       "[100 rows x 2 columns]"
      ]
     },
     "execution_count": 40,
     "metadata": {},
     "output_type": "execute_result"
    }
   ],
   "source": [
    "df"
   ]
  },
  {
   "cell_type": "code",
   "execution_count": 41,
   "metadata": {},
   "outputs": [
    {
     "data": {
      "image/png": "[encoded data removed]",
      "text/plain": [
       "<Figure size 800x600 with 1 Axes>"
      ]
     },
     "metadata": {},
     "output_type": "display_data"
    }
   ],
   "source": [
    "# Visualizing Data\n",
    "\n",
    "import matplotlib.pyplot as plt\n",
    "import seaborn as sns\n",
    "\n",
    "\n",
    "# 1. Matplotlib ile Histogram\n",
    "plt.figure(figsize=(8, 6))\n",
    "plt.hist(data, bins=20, color='skyblue', edgecolor='black')\n",
    "plt.title('Histogram with Matplotlib')\n",
    "plt.xlabel('Values')\n",
    "plt.ylabel('Frequency')\n",
    "plt.grid(True)\n",
    "plt.show()"
   ]
  },
  {
   "cell_type": "code",
   "execution_count": 44,
   "metadata": {},
   "outputs": [
    {
     "data": {
      "text/plain": [
       "'kafam'"
      ]
     },
     "execution_count": 44,
     "metadata": {},
     "output_type": "execute_result"
    }
   ],
   "source": [
    "def str_uph(text,ch):\n",
    "    result=''\n",
    "\n",
    "    for i in text:\n",
    "        if i==' ':\n",
    "            i=ch\n",
    "        result+=i\n",
    "    return result\n",
    "\n",
    "text='k f m'\n",
    "ch='a'\n",
    "\n",
    "str_uph(text,ch)\n",
    "            "
   ]
  },
  {
   "cell_type": "code",
   "execution_count": 48,
   "metadata": {},
   "outputs": [
    {
     "data": {
      "text/plain": [
       "False"
      ]
     },
     "execution_count": 48,
     "metadata": {},
     "output_type": "execute_result"
    }
   ],
   "source": [
    "def valid_square(num):\n",
    "    square=int(num**0.5)\n",
    "    return square**2==num\n",
    "\n",
    "valid_square(10)"
   ]
  },
  {
   "cell_type": "code",
   "execution_count": null,
   "metadata": {},
   "outputs": [],
   "source": [
    "def duplicate_num(array):\n",
    "    size = len(array)\n",
    "    insertIndex=1\n",
    "    for i in range(i,size):\n",
    "        if array[i] != array[i-1]:\n",
    "            array[insertIndex] = array[i]\n",
    "\n",
    "\n",
    "\n",
    "\n",
    "\n",
    "array1=[1,1,2,3,4,4]\n",
    "arra2=[2,3,4,5]\n",
    "\n",
    "duplicate_num(array1)"
   ]
  },
  {
   "cell_type": "code",
   "execution_count": 51,
   "metadata": {},
   "outputs": [
    {
     "data": {
      "text/plain": [
       "2.0"
      ]
     },
     "execution_count": 51,
     "metadata": {},
     "output_type": "execute_result"
    }
   ],
   "source": [
    "def find_missing(array):\n",
    "\n",
    "    sum_of_elements=sum(array)\n",
    "\n",
    "    n=len(array)+1\n",
    "\n",
    "    sum_total = (n*(n+1)) / 2\n",
    "\n",
    "    return sum_total-sum_of_elements\n",
    "\n",
    "array=[1,3,4,5]\n",
    "\n",
    "find_missing(array)\n",
    "    "
   ]
  },
  {
   "cell_type": "code",
   "execution_count": 50,
   "metadata": {},
   "outputs": [
    {
     "data": {
      "text/plain": [
       "4"
      ]
     },
     "execution_count": 50,
     "metadata": {},
     "output_type": "execute_result"
    }
   ],
   "source": [
    "array=[1,2,3,4]\n",
    "len(array)"
   ]
  },
  {
   "cell_type": "code",
   "execution_count": 52,
   "metadata": {},
   "outputs": [
    {
     "name": "stdout",
     "output_type": "stream",
     "text": [
      "Distinction\n"
     ]
    }
   ],
   "source": [
    "score=75\n",
    "\n",
    "print('Fail' if score<50 else 'Merit' if score<70 else 'Distinction')"
   ]
  },
  {
   "cell_type": "code",
   "execution_count": null,
   "metadata": {},
   "outputs": [],
   "source": []
  }
 ],
 "metadata": {
  "kernelspec": {
   "display_name": "myenv",
   "language": "python",
   "name": "python3"
  },
  "language_info": {
   "codemirror_mode": {
    "name": "ipython",
    "version": 3
   },
   "file_extension": ".py",
   "mimetype": "text/x-python",
   "name": "python",
   "nbconvert_exporter": "python",
   "pygments_lexer": "ipython3",
   "version": "3.11.9"
  }
 },
 "nbformat": 4,
 "nbformat_minor": 2
}
