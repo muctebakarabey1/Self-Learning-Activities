{
 "cells": [
  {
   "cell_type": "code",
   "execution_count": 8,
   "metadata": {},
   "outputs": [
    {
     "name": "stdout",
     "output_type": "stream",
     "text": [
      "(3, 4, 5, 6)\n"
     ]
    }
   ],
   "source": [
    "# Tuple - Immutable,High Peroformace, Lw memeory\n",
    "\n",
    "a_tuple=(3,4,5,6)\n",
    "print(a_tuple)"
   ]
  },
  {
   "cell_type": "code",
   "execution_count": null,
   "metadata": {},
   "outputs": [
    {
     "name": "stdout",
     "output_type": "stream",
     "text": [
      "Book is  Sandman\n"
     ]
    }
   ],
   "source": [
    "# __init__\n",
    "\n",
    "class book_store:\n",
    "\n",
    "    def __init__(self,title):\n",
    "\n",
    "        self.title=title\n",
    "    \n",
    "    def book(self):\n",
    "        \n",
    "        print('Book is ',self.title)\n",
    "\n",
    "b=book_store('Sandman')\n",
    "b.book()\n"
   ]
  },
  {
   "cell_type": "code",
   "execution_count": 13,
   "metadata": {},
   "outputs": [
    {
     "name": "stdout",
     "output_type": "stream",
     "text": [
      "[1, 2, 3, 4, 5]\n",
      "(1, 2, 3, 4)\n"
     ]
    }
   ],
   "source": [
    "# what is difference between a mutable data type and an immuatebla data type?\n",
    "# Mutuable - we can change after created - List,Dict,Set\n",
    "\n",
    "#List\n",
    "a_list=[1,2,3,4]\n",
    "a_list.append(5)\n",
    "\n",
    "print(a_list)\n",
    "\n",
    "\n",
    "# Dict\n",
    "a_dict={'a':1,'b':2,'c':3}\n",
    "a_dict['a']=4\n",
    "\n",
    "# Immuatable - We cant change after creation - Numeric,String,Tuples\n",
    "\n",
    "#Tuples\n",
    "\n",
    "a=(1,2,3,4)\n",
    "print(a)\n"
   ]
  },
  {
   "cell_type": "code",
   "execution_count": 15,
   "metadata": {},
   "outputs": [
    {
     "data": {
      "text/plain": [
       "[1, 2, 3, 4, 5, 6, 7, 8, 9]"
      ]
     },
     "execution_count": 15,
     "metadata": {},
     "output_type": "execute_result"
    }
   ],
   "source": [
    "# list in for\n",
    "a_list=[i for i in range(1,10)]\n",
    "a_list"
   ]
  },
  {
   "cell_type": "code",
   "execution_count": 18,
   "metadata": {},
   "outputs": [
    {
     "data": {
      "text/plain": [
       "{1: 1, 2: 4, 3: 9, 4: 16, 5: 25, 6: 36, 7: 49, 8: 64, 9: 81}"
      ]
     },
     "execution_count": 18,
     "metadata": {},
     "output_type": "execute_result"
    }
   ],
   "source": [
    "# for in dict \n",
    "a_dict={i:i**2 for i in range(1,10)}\n",
    "a_dict"
   ]
  },
  {
   "cell_type": "code",
   "execution_count": 19,
   "metadata": {},
   "outputs": [
    {
     "name": "stdout",
     "output_type": "stream",
     "text": [
      "Giridigniz sayi : 3\n"
     ]
    }
   ],
   "source": [
    "try:\n",
    "\n",
    "    num=int(input('Enter a number: '))\n",
    "    print(f'Giridigniz sayi : {num}')\n",
    "\n",
    "except ValueError as e:\n",
    "    print('The error is ',e)"
   ]
  },
  {
   "cell_type": "code",
   "execution_count": 21,
   "metadata": {},
   "outputs": [
    {
     "name": "stdout",
     "output_type": "stream",
     "text": [
      "Monkey Func\n"
     ]
    }
   ],
   "source": [
    "# Monkey patching\n",
    "\n",
    "class Monkey:\n",
    "\n",
    "    def patch(self):\n",
    "    \n",
    "     print('Patch Code')\n",
    "\n",
    "def monkey(self):\n",
    "   print('Monkey Func')\n",
    "\n",
    "\n",
    "Monkey.patch=monkey\n",
    "\n",
    "obj=Monkey()\n",
    "\n",
    "obj.patch()\n",
    "\n",
    "\n"
   ]
  },
  {
   "cell_type": "code",
   "execution_count": 22,
   "metadata": {},
   "outputs": [],
   "source": [
    "# with using the file \n",
    "\n",
    "with open('file.txt','w') as file:\n",
    "    file.write('gOOD FRIDAY')\n",
    "\n"
   ]
  },
  {
   "cell_type": "code",
   "execution_count": 23,
   "metadata": {},
   "outputs": [
    {
     "name": "stdout",
     "output_type": "stream",
     "text": [
      "Good\n"
     ]
    }
   ],
   "source": [
    "try:\n",
    "\n",
    "    num1=int(input('Enter number1: '))\n",
    "    num2=int(input('Enter number2: '))\n",
    "    \n",
    "except:\n",
    "    print('Error')\n",
    "\n",
    "else:\n",
    "    print('Good')"
   ]
  },
  {
   "cell_type": "code",
   "execution_count": 25,
   "metadata": {},
   "outputs": [
    {
     "name": "stdout",
     "output_type": "stream",
     "text": [
      "Total :id      2\n",
      "name    1\n",
      "dtype: int64\n"
     ]
    }
   ],
   "source": [
    "# Null values\n",
    "\n",
    "import pandas as pd \n",
    "import numpy as np\n",
    "\n",
    "a_dict={'id':[1,2,3,np.nan,np.nan],\n",
    "        'name':['Hasan','Berivan','Ahmet',np.nan,'Civciv']}\n",
    "\n",
    "df=pd.DataFrame(a_dict)\n",
    "\n",
    "total=df.isnull().sum()\n",
    "print(f'Total :{total}')"
   ]
  },
  {
   "cell_type": "code",
   "execution_count": null,
   "metadata": {},
   "outputs": [
    {
     "data": {
      "text/plain": [
       "False"
      ]
     },
     "execution_count": 26,
     "metadata": {},
     "output_type": "execute_result"
    }
   ],
   "source": [
    "def valid_square(num):\n",
    "\n",
    "    square=int(num**0.5)\n",
    "    check=square**2==num\n",
    "    return check\n",
    "\n",
    "\n",
    "valid_square(10)"
   ]
  },
  {
   "cell_type": "code",
   "execution_count": 28,
   "metadata": {},
   "outputs": [
    {
     "data": {
      "text/plain": [
       "{1: 'a', 2: 'b', 3: 'c'}"
      ]
     },
     "execution_count": 28,
     "metadata": {},
     "output_type": "execute_result"
    }
   ],
   "source": [
    "def reverse_dict():\n",
    "\n",
    "    a_dict={'a':1,'b':2,'c':3}\n",
    "\n",
    "    return {value:key for key,value in a_dict.items()}\n",
    "\n",
    "reverse_dict()\n"
   ]
  },
  {
   "cell_type": "code",
   "execution_count": 29,
   "metadata": {},
   "outputs": [
    {
     "data": {
      "text/plain": [
       "10"
      ]
     },
     "execution_count": 29,
     "metadata": {},
     "output_type": "execute_result"
    }
   ],
   "source": [
    "array_a=[1,2,3,4]\n",
    "\n",
    "total=sum(array_a)\n",
    "\n",
    "total\n"
   ]
  },
  {
   "cell_type": "code",
   "execution_count": 32,
   "metadata": {},
   "outputs": [
    {
     "data": {
      "text/plain": [
       "24"
      ]
     },
     "execution_count": 32,
     "metadata": {},
     "output_type": "execute_result"
    }
   ],
   "source": [
    "def fact(num):\n",
    "    if num==1 or num==0:\n",
    "        return 1\n",
    "    else:\n",
    "        return num*fact(num-1)\n",
    "    \n",
    "\n",
    "fact(4)\n"
   ]
  },
  {
   "cell_type": "code",
   "execution_count": 33,
   "metadata": {},
   "outputs": [
    {
     "data": {
      "text/plain": [
       "[4, 3, 2, 1]"
      ]
     },
     "execution_count": 33,
     "metadata": {},
     "output_type": "execute_result"
    }
   ],
   "source": [
    "def reverse_array(array_a):\n",
    "\n",
    "    reverse_array=array_a[::-1]\n",
    "    return reverse_array\n",
    "\n",
    "\n",
    "array=[1,2,3,4]\n",
    "reverse_array(array)"
   ]
  },
  {
   "cell_type": "code",
   "execution_count": null,
   "metadata": {},
   "outputs": [],
   "source": []
  }
 ],
 "metadata": {
  "kernelspec": {
   "display_name": "myenv",
   "language": "python",
   "name": "python3"
  },
  "language_info": {
   "codemirror_mode": {
    "name": "ipython",
    "version": 3
   },
   "file_extension": ".py",
   "mimetype": "text/x-python",
   "name": "python",
   "nbconvert_exporter": "python",
   "pygments_lexer": "ipython3",
   "version": "3.11.9"
  }
 },
 "nbformat": 4,
 "nbformat_minor": 2
}
